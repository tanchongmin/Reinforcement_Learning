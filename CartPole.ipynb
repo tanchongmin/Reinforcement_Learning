{
  "nbformat": 4,
  "nbformat_minor": 0,
  "metadata": {
    "kernelspec": {
      "display_name": "Python 3",
      "language": "python",
      "name": "python3"
    },
    "language_info": {
      "codemirror_mode": {
        "name": "ipython",
        "version": 3
      },
      "file_extension": ".py",
      "mimetype": "text/x-python",
      "name": "python",
      "nbconvert_exporter": "python",
      "pygments_lexer": "ipython3",
      "version": "3.7.6"
    },
    "colab": {
      "name": "CartPole.ipynb",
      "provenance": [],
      "collapsed_sections": [
        "9DRkH9PbygJO",
        "1Prq30xVygJd"
      ]
    }
  },
  "cells": [
    {
      "cell_type": "markdown",
      "metadata": {
        "id": "9DRkH9PbygJO"
      },
      "source": [
        "## The Cart Pole"
      ]
    },
    {
      "cell_type": "markdown",
      "metadata": {
        "id": "mkJv5bqsV9qK"
      },
      "source": [
        "\n",
        "This problem requires balancing a pole up on a cart for as long as possible.\n",
        "\n",
        "### State: \n",
        "\n",
        "(0) Cart Position (-2.4 to 2.4)\n",
        "\n",
        "(1) Cart Velocity (-infinity to infinity)\n",
        "\n",
        "(2) Pole Angle (-41.8 to 41.8)\n",
        "\n",
        "(3) Pole Velocity at Tip (-infinity to infinity)\n",
        "\n",
        "### Actions: \n",
        "\n",
        "Left or Right (Force of -1 or +1 to the cart)\n",
        "\n",
        "### Reward: \n",
        "\n",
        "For each second the pole is upright, reward + 1\n",
        "\n",
        "Max reward: 200 (+1 for a total of 200 time steps)\n",
        "\n",
        "### Starting State:\n",
        "\n",
        "All state variables assigned a uniform random value, magnitude less than 0.05\n",
        "\n",
        "### Termination:\n",
        "\n",
        "The episode ends when:\n",
        "\n",
        "(1) The pole is more than 12 degrees from vertical\n",
        "\n",
        "(2) The cart moves more than 2.4 units from the center\n",
        "\n",
        "(3) Episode length greater than 200"
      ]
    },
    {
      "cell_type": "markdown",
      "metadata": {
        "id": "qY4xctIIBxaG"
      },
      "source": [
        "# Install Pre-requisites/Dependencies\n",
        "\n",
        "The following dependencies are required to get the gym environment working and also to display the gym environment as a video"
      ]
    },
    {
      "cell_type": "code",
      "metadata": {
        "id": "88geA5rdAA_k"
      },
      "source": [
        "#remove \" > /dev/null 2>&1\" to see what is going on under the hood\n",
        "!pip install gym pyvirtualdisplay > /dev/null 2>&1\n",
        "!apt-get install -y xvfb python-opengl ffmpeg > /dev/null 2>&1"
      ],
      "execution_count": 1,
      "outputs": []
    },
    {
      "cell_type": "code",
      "metadata": {
        "colab": {
          "base_uri": "https://localhost:8080/",
          "height": 276
        },
        "id": "PJNU9nV5AlPv",
        "outputId": "26fc13f6-28ba-484f-b252-c792290101c3"
      },
      "source": [
        "!apt-get update > /dev/null 2>&1\n",
        "!apt-get install cmake > /dev/null 2>&1\n",
        "!pip install --upgrade setuptools 2>&1\n",
        "!pip install ez_setup > /dev/null 2>&1\n",
        "!pip install gym > /dev/null 2>&1"
      ],
      "execution_count": 2,
      "outputs": [
        {
          "output_type": "stream",
          "text": [
            "Collecting setuptools\n",
            "\u001b[?25l  Downloading https://files.pythonhosted.org/packages/3d/f2/1489d3b6c72d68bf79cd0fba6b6c7497df4ebf7d40970e2d7eceb8d0ea9c/setuptools-51.0.0-py3-none-any.whl (785kB)\n",
            "\u001b[K     |████████████████████████████████| 788kB 6.9MB/s \n",
            "\u001b[31mERROR: datascience 0.10.6 has requirement folium==0.2.1, but you'll have folium 0.8.3 which is incompatible.\u001b[0m\n",
            "\u001b[?25hInstalling collected packages: setuptools\n",
            "  Found existing installation: setuptools 50.3.2\n",
            "    Uninstalling setuptools-50.3.2:\n",
            "      Successfully uninstalled setuptools-50.3.2\n",
            "Successfully installed setuptools-51.0.0\n"
          ],
          "name": "stdout"
        },
        {
          "output_type": "display_data",
          "data": {
            "application/vnd.colab-display-data+json": {
              "pip_warning": {
                "packages": [
                  "pkg_resources"
                ]
              }
            }
          },
          "metadata": {
            "tags": []
          }
        }
      ]
    },
    {
      "cell_type": "markdown",
      "metadata": {
        "id": "59z1uNHhBSyb"
      },
      "source": [
        "# Configure Colab to display video of our agent!\n",
        "\n",
        "The code below simply configures Colab to display a video of the environment for us to visualize."
      ]
    },
    {
      "cell_type": "code",
      "metadata": {
        "colab": {
          "base_uri": "https://localhost:8080/"
        },
        "id": "GSnZsMBt_vkJ",
        "outputId": "f252e4fa-fb31-4ba4-d6da-f98119ce1322"
      },
      "source": [
        "import gym\n",
        "from gym import logger as gymlogger\n",
        "from gym.wrappers import Monitor\n",
        "import matplotlib.pyplot as plt\n",
        "%matplotlib inline\n",
        "import glob\n",
        "import io\n",
        "import base64\n",
        "import numpy as np\n",
        "from IPython.display import HTML\n",
        "from IPython import display as ipythondisplay\n",
        "\n",
        "from pyvirtualdisplay import Display\n",
        "display = Display(visible=0, size=(1400, 900))\n",
        "display.start()"
      ],
      "execution_count": 3,
      "outputs": [
        {
          "output_type": "execute_result",
          "data": {
            "text/plain": [
              "<pyvirtualdisplay.display.Display at 0x7f5a7279b2e8>"
            ]
          },
          "metadata": {
            "tags": []
          },
          "execution_count": 3
        }
      ]
    },
    {
      "cell_type": "code",
      "metadata": {
        "id": "_GOz9bH_-9zY"
      },
      "source": [
        "\"\"\"\n",
        "Utility functions to enable video recording of gym environment and displaying it\n",
        "To enable video, just do \"env = wrap_env(env)\"\"\n",
        "\"\"\"\n",
        "def show_video():\n",
        "  mp4list = glob.glob('video/*.mp4')\n",
        "  if len(mp4list) > 0:\n",
        "    mp4 = mp4list[0]\n",
        "    video = io.open(mp4, 'r+b').read()\n",
        "    encoded = base64.b64encode(video)\n",
        "    ipythondisplay.display(HTML(data='''<video alt=\"test\" autoplay \n",
        "                loop controls style=\"height: 400px;\">\n",
        "                <source src=\"data:video/mp4;base64,{0}\" type=\"video/mp4\" />\n",
        "             </video>'''.format(encoded.decode('ascii'))))\n",
        "  else: \n",
        "    print(\"Could not find video\")\n",
        "def wrap_env(env):\n",
        "  env = Monitor(env, './video', force=True)\n",
        "  return env"
      ],
      "execution_count": 4,
      "outputs": []
    },
    {
      "cell_type": "markdown",
      "metadata": {
        "id": "xCMc6oW2ygJT"
      },
      "source": [
        "# Environment Visualization"
      ]
    },
    {
      "cell_type": "markdown",
      "metadata": {
        "id": "EEJoYAdBygJU"
      },
      "source": [
        "Gym is a very useful package by OpenAI (https://gym.openai.com/) that comes built in with many environments to train our agents on.\n",
        "\n",
        "Here, we will use the CartPole environment using:\n",
        "\n",
        "*env = gym.make('CartPole-v0')*\n",
        "\n",
        "We reset the environment to its initial state using:\n",
        "\n",
        "*env.reset()*\n",
        "\n",
        "We visualize the environment using:\n",
        "\n",
        "*env.render()*\n",
        "\n",
        "We take an action in the environment using:\n",
        "\n",
        "*env.step(action)*\n",
        "\n",
        "We create a function \"visualize\" that lets us visualize the actions of an agent using decision_function to choose the actions."
      ]
    },
    {
      "cell_type": "code",
      "metadata": {
        "id": "OPmdfB7tygJU"
      },
      "source": [
        " env = wrap_env(gym.make('CartPole-v0'))\n",
        " \n",
        " def visualize(decision_function):\n",
        "  env = wrap_env(gym.make('CartPole-v0'))\n",
        "  state = env.reset()\n",
        "  totalreward = 0\n",
        "  for t in range(200):\n",
        "      env.render()\n",
        "      action = decision_function(state)\n",
        "      state, reward, done, _ = env.step(action)\n",
        "      totalreward += reward\n",
        "      if done:\n",
        "          break\n",
        "  print(\"Episode finished after {} timesteps with reward {}\".format(t+1, totalreward))\n",
        "  env.close()\n",
        "  show_video()"
      ],
      "execution_count": 10,
      "outputs": []
    },
    {
      "cell_type": "markdown",
      "metadata": {
        "id": "HlIz6-jJUiyK"
      },
      "source": [
        "We visualize the actions of a random agent:"
      ]
    },
    {
      "cell_type": "code",
      "metadata": {
        "id": "GPdQ1ZUzUHKu"
      },
      "source": [
        "def random_action(state):\n",
        "  return env.action_space.sample()"
      ],
      "execution_count": 11,
      "outputs": []
    },
    {
      "cell_type": "code",
      "metadata": {
        "colab": {
          "base_uri": "https://localhost:8080/",
          "height": 438
        },
        "id": "hwyWAi-4VWVy",
        "outputId": "03a1c29e-b5df-4ac5-c15d-246d0257846b"
      },
      "source": [
        "visualize(random_action)"
      ],
      "execution_count": 12,
      "outputs": [
        {
          "output_type": "stream",
          "text": [
            "Episode finished after 22 timesteps with reward 22.0\n"
          ],
          "name": "stdout"
        },
        {
          "output_type": "display_data",
          "data": {
            "text/html": [
              "<video alt=\"test\" autoplay \n",
              "                loop controls style=\"height: 400px;\">\n",
              "                <source src=\"data:video/mp4;base64,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\" type=\"video/mp4\" />\n",
              "             </video>"
            ],
            "text/plain": [
              "<IPython.core.display.HTML object>"
            ]
          },
          "metadata": {
            "tags": []
          }
        }
      ]
    },
    {
      "cell_type": "markdown",
      "metadata": {
        "id": "7QLXPbY7ygJX"
      },
      "source": [
        "# Check out the actions"
      ]
    },
    {
      "cell_type": "code",
      "metadata": {
        "colab": {
          "base_uri": "https://localhost:8080/"
        },
        "id": "qeWvHpDlygJX",
        "outputId": "8380495e-51e2-4766-e331-8ff54ba74e62"
      },
      "source": [
        "print('Number of actions:', env.action_space.n)"
      ],
      "execution_count": 13,
      "outputs": [
        {
          "output_type": "stream",
          "text": [
            "Number of actions: 2\n"
          ],
          "name": "stdout"
        }
      ]
    },
    {
      "cell_type": "code",
      "metadata": {
        "colab": {
          "base_uri": "https://localhost:8080/"
        },
        "id": "hEqTaowBygJY",
        "outputId": "0f59fceb-5af1-4342-bcc9-2fcfbd29d662"
      },
      "source": [
        "# Run this cell many times and see what is output\n",
        "print('A random action is:', env.action_space.sample())"
      ],
      "execution_count": 19,
      "outputs": [
        {
          "output_type": "stream",
          "text": [
            "A random action is: 1\n"
          ],
          "name": "stdout"
        }
      ]
    },
    {
      "cell_type": "markdown",
      "metadata": {
        "id": "NpOXzVqhygJY"
      },
      "source": [
        "# Check out the observations"
      ]
    },
    {
      "cell_type": "code",
      "metadata": {
        "colab": {
          "base_uri": "https://localhost:8080/"
        },
        "id": "oSA4r1ezygJZ",
        "outputId": "67d7b342-fc20-492e-f8a7-ab5bcab29737"
      },
      "source": [
        "env.reset()\n",
        "state, reward, done, info = env.step(0)\n",
        "print('State:', state)\n",
        "print('Reward:', reward)\n",
        "print('Done:', done)\n",
        "print('Info:', info)"
      ],
      "execution_count": 20,
      "outputs": [
        {
          "output_type": "stream",
          "text": [
            "State: [-0.01258419 -0.17359022 -0.01007264  0.24467366]\n",
            "Reward: 1.0\n",
            "Done: False\n",
            "Info: {}\n"
          ],
          "name": "stdout"
        }
      ]
    },
    {
      "cell_type": "markdown",
      "metadata": {
        "id": "zf7dIklUygJb"
      },
      "source": [
        "# Agent 1: Human-expertise guided approach (Heuristics)"
      ]
    },
    {
      "cell_type": "markdown",
      "metadata": {
        "id": "HxWNUdnlygJb"
      },
      "source": [
        "One way to solve cart pole is to just use simple heuristics (some external knowledge about what is good and bad) to determine the action.\n",
        "\n",
        "One way is to say that when the pole angle is negative (pole tilted to the left), then we move the cart to the left (action 0) so as to try to regain balance.\n",
        "\n",
        "Otherwise, we move it to the right (action 1)"
      ]
    },
    {
      "cell_type": "code",
      "metadata": {
        "id": "EOTpqMSCygJb"
      },
      "source": [
        "def select_action_good(state):\n",
        "    cart_pos, cart_vel, pole_ang, pole_vel = state\n",
        "    if pole_ang < 0:\n",
        "        return 0\n",
        "    else:\n",
        "        return 1"
      ],
      "execution_count": 21,
      "outputs": []
    },
    {
      "cell_type": "code",
      "metadata": {
        "colab": {
          "base_uri": "https://localhost:8080/",
          "height": 438
        },
        "id": "ks5CHik9ygJb",
        "outputId": "9aa1e416-86d1-43c1-88a8-3918538d4431"
      },
      "source": [
        "visualize(select_action_good)"
      ],
      "execution_count": 24,
      "outputs": [
        {
          "output_type": "stream",
          "text": [
            "Episode finished after 36 timesteps with reward 36.0\n"
          ],
          "name": "stdout"
        },
        {
          "output_type": "display_data",
          "data": {
            "text/html": [
              "<video alt=\"test\" autoplay \n",
              "                loop controls style=\"height: 400px;\">\n",
              "                <source src=\"data:video/mp4;base64,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\" type=\"video/mp4\" />\n",
              "             </video>"
            ],
            "text/plain": [
              "<IPython.core.display.HTML object>"
            ]
          },
          "metadata": {
            "tags": []
          }
        }
      ]
    },
    {
      "cell_type": "markdown",
      "metadata": {
        "id": "lilNQX93ygJc"
      },
      "source": [
        "# Can we do better by taking into account other factors like the pole velocity?"
      ]
    },
    {
      "cell_type": "markdown",
      "metadata": {
        "id": "yo56Sx_PygJc"
      },
      "source": [
        "### Individual exercise / discussion\n",
        "\n",
        "Try to configure the code below using if else statements, and try to get the pole to consistently reach **timestep 200** if possible!\n",
        "\n",
        "Note:\n",
        "\n",
        "- Action value of 0 represents moving the cart to the left\n",
        "- Action value of 1 represents moving the cart to the right\n",
        "- Negative angles/position/velocity represent towards the left\n",
        "- Positive angles/position/velocity represent towards the right"
      ]
    },
    {
      "cell_type": "code",
      "metadata": {
        "id": "DZX403CoygJd"
      },
      "source": [
        "def select_action_better(state):\n",
        "    cart_pos, cart_vel, pole_ang, pole_vel = state\n",
        "    if pole_vel < 0:\n",
        "        return 0\n",
        "    elif pole_ang < 0:\n",
        "        return 0\n",
        "#     elif cart_pos < 0:\n",
        "#         return 0\n",
        "#     elif cart_vel < 0:\n",
        "#         return 0\n",
        "    else:\n",
        "        return 1"
      ],
      "execution_count": 25,
      "outputs": []
    },
    {
      "cell_type": "code",
      "metadata": {
        "colab": {
          "base_uri": "https://localhost:8080/",
          "height": 438
        },
        "id": "453zQz5bygJd",
        "outputId": "d432286d-5d74-4baf-88e1-f1e32d70b292"
      },
      "source": [
        "visualize(select_action_better)"
      ],
      "execution_count": 28,
      "outputs": [
        {
          "output_type": "stream",
          "text": [
            "Episode finished after 131 timesteps with reward 131.0\n"
          ],
          "name": "stdout"
        },
        {
          "output_type": "display_data",
          "data": {
            "text/html": [
              "<video alt=\"test\" autoplay \n",
              "                loop controls style=\"height: 400px;\">\n",
              "                <source src=\"data:video/mp4;base64,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\" type=\"video/mp4\" />\n",
              "             </video>"
            ],
            "text/plain": [
              "<IPython.core.display.HTML object>"
            ]
          },
          "metadata": {
            "tags": []
          }
        }
      ]
    },
    {
      "cell_type": "markdown",
      "metadata": {
        "id": "2X4fdnR8ygJd"
      },
      "source": [
        "# Agent 2: Doing it without human expertise - Deep Q-Network (DQN) [Advanced]\n",
        "\n",
        "The following code was modified from: https://github.com/gsurma/cartpole/blob/master/cartpole.py\n",
        "\n",
        "We simply train a single neural network that takes in the state space as input, and outputs two values:\n",
        "\n",
        "- Q-value for Action 0\n",
        "- Q-value for Action 1\n",
        "\n",
        "The chosen action will then be whichever action gives the highest Q-value. \n",
        "\n",
        "You can treat the Q-value as the proxy for the total accumulated future reward that you can get from a state if you choose an action."
      ]
    },
    {
      "cell_type": "markdown",
      "metadata": {
        "id": "1Prq30xVygJd"
      },
      "source": [
        "# Additional Concepts (Optional)"
      ]
    },
    {
      "cell_type": "markdown",
      "metadata": {
        "id": "y1jUOrBwygJd"
      },
      "source": [
        "### Compute Q-learning Temporal Difference error:\n",
        "\n",
        "(This is equivalent to the difference between what the expected reward of what the current step predicts, compared to what the next step predicts\n",
        "\n",
        "-> Think of it as the further you go into time, the more accurate your prediction of the outcome because there is less uncertainty \n",
        "\n",
        "-> Hence if we try to match current step prediction with the next step prediction's values, we will be more and more accurate at predicting the future)\n",
        "\n",
        "\n",
        "The loss $L$ which we use to train the neural network is defined as:\n",
        "\n",
        "$$ L = { 1 \\over N} \\sum_i [ Q_{\\theta}(s,a) - Q_{reference}(s,a) ] ^2 $$\n",
        "\n",
        "with $Q_{reference}$ defined as:\n",
        "\n",
        "$$ Q_{reference}(s,a) = r(s,a) + \\gamma \\cdot max_{a'} Q_{target}(s', a') $$\n",
        "\n",
        "Where\n",
        "* $Q_{target}(s',a')$ denotes q-value of next state and next action predicted by __target_network__\n",
        "* $Q_{\\theta}(s,a)$ denotes q-value of current state and action predicted by __target_network__\n",
        "* $s, a, r, s'$ are current state, action, reward and next state respectively\n",
        "* $\\gamma$ is a discount factor to discount future rewards\n",
        "* $N$ is the number of experiences sampled from the replay buffer\n",
        "\n",
        "### Replay Buffer \n",
        "In order to prevent high correlation between the input samples, we store our accumulated experience into a replay buffer, and then sample randomly from it to learn. \n",
        "\n",
        "A human analog is that we replay our experiences in the day in our dreams, and learn from our dreams at night."
      ]
    },
    {
      "cell_type": "markdown",
      "metadata": {
        "id": "F31GHq1AygJe"
      },
      "source": [
        "# The Code"
      ]
    },
    {
      "cell_type": "markdown",
      "metadata": {
        "id": "5uAliG1KygJe"
      },
      "source": [
        "Since we use a neural network, we import tensorflow/keras (https://keras.io/) for the neural network training.\n",
        "\n",
        "We also import random (https://docs.python.org/3/library/random.html) so that we can randomly sample our replay buffer."
      ]
    },
    {
      "cell_type": "code",
      "metadata": {
        "id": "K12LTd4QygJe"
      },
      "source": [
        "from tensorflow.keras.models import Sequential\n",
        "from tensorflow.keras.layers import Dense, Input\n",
        "from tensorflow.keras.optimizers import Adam\n",
        "\n",
        "import random"
      ],
      "execution_count": 29,
      "outputs": []
    },
    {
      "cell_type": "markdown",
      "metadata": {
        "id": "oHaCru1kygJe"
      },
      "source": [
        "We set certain hyperparameters (= not trained within the model) in order to influence the way the agent learns.\n",
        "\n",
        "When you are more familiar with deep learning/reinforcement learning, you can adjust this, but for now, this has been tuned and you should just use this."
      ]
    },
    {
      "cell_type": "code",
      "metadata": {
        "id": "bAH46tneygJe"
      },
      "source": [
        "## HYPERPARAMETERS\n",
        "# These can be modified for you to understand the importance of these values\n",
        "GAMMA = 0.99 # Discounted value of future rewards: Between 0 and 1\n",
        "LEARNING_RATE = 0.001 # How fast you want the neural network to learn: Between 0 and 1\n",
        "MEMORY_SIZE = 1000 # Number of memories the replay buffer can store: Positive Integer\n",
        "BATCH_SIZE = 16 # Number of samples to learn from replay buffer: Positive Integer, lower than MEMORY_SIZE\n",
        "EPSILON = 0.95 # Decay factor for exploration: Between 0 and 1"
      ],
      "execution_count": 30,
      "outputs": []
    },
    {
      "cell_type": "markdown",
      "metadata": {
        "id": "DcbzdTRRygJf"
      },
      "source": [
        "DQNSolver is a class that uses DQN in order to solve the Cart Pole problem\n",
        "\n",
        "It has:\n",
        "- an __init__ function, which initializes the solver\n",
        "- a remember function, in order to store memory into the replay buffer\n",
        "- an act function, which selects an action randomly a fraction **exploration_rate** of the time, and otherwise selects the best action (greedy selection)\n",
        "- an experience_replay function, which samples memories to learn from the replay buffer"
      ]
    },
    {
      "cell_type": "code",
      "metadata": {
        "id": "pp9BZ4tmygJf"
      },
      "source": [
        "class DQNSolver:\n",
        "    def __init__(self, observation_space, action_space):\n",
        "        self.action_space = action_space\n",
        "        self.memory = []\n",
        "        self.exploration_rate = 1\n",
        "        self.model = Sequential()\n",
        "        self.model.add(Input(shape = (observation_space,))) # Input layer with observation_space number of nodes to represent state space\n",
        "        self.model.add(Dense(self.action_space, activation=\"linear\"))  # Output layer: Must have self.action_space number of nodes\n",
        "        self.model.compile(loss=\"mse\", optimizer=Adam(lr=LEARNING_RATE))\n",
        "\n",
        "    def remember(self, state, action, reward, next_state, done):\n",
        "        # add a memory to the replay buffer\n",
        "        self.memory.append((state, action, reward, next_state, done))\n",
        "        # only keep the most recent MEMORY_SIZE number of memories\n",
        "        self.memory =  self.memory[-MEMORY_SIZE:]\n",
        "\n",
        "    def act(self, state, greedy = False):\n",
        "        # Only explore if less than exploration rate\n",
        "        if np.random.rand() < self.exploration_rate and not greedy:\n",
        "            return env.action_space.sample()\n",
        "        # Otherwise, choose the best action\n",
        "        q_values = self.model.predict(state)\n",
        "        return np.argmax(q_values[0])\n",
        "\n",
        "    def experience_replay(self):\n",
        "        # only start sampling the replay buffer when there is enough memory\n",
        "        if len(self.memory) < BATCH_SIZE:\n",
        "            return\n",
        "        # sample BATCH_SIZE amount of memory from the memory buffer\n",
        "        batch = random.sample(self.memory, BATCH_SIZE)\n",
        "        for state, action, reward, state_next, done in batch:\n",
        "            # if terminal step, then take the terminal reward\n",
        "            if done:\n",
        "                q_update = reward\n",
        "            # if not terminal step, then take this step's reward plus future accumulated rewards\n",
        "            else:\n",
        "                q_update = (reward + GAMMA * np.amax(self.model.predict(state_next)[0]))\n",
        "                \n",
        "            # use the neural network to predict the q_values for the current state\n",
        "            q_values = self.model.predict(state)\n",
        "            # update the q_value of the action taken with the future predicted value q_update\n",
        "            q_values[0][action] = q_update\n",
        "            # train the neural network with the updated q_values\n",
        "            self.model.fit(state, q_values, verbose=0)\n",
        "            \n",
        "        # Explore less next run by decaying exploration rate\n",
        "        self.exploration_rate *= EPSILON"
      ],
      "execution_count": 31,
      "outputs": []
    },
    {
      "cell_type": "markdown",
      "metadata": {
        "id": "RheyGQ8fygJf"
      },
      "source": [
        "Now we run the environment and let the DQN algorithm learn:\n",
        "\n",
        "If the agent does not perform well, run the code again.\n",
        "\n",
        "This is because the rate of learning in DQN is highly dependent on the starting configuration, so a good starting state will enable it to learn much better."
      ]
    },
    {
      "cell_type": "code",
      "metadata": {
        "colab": {
          "base_uri": "https://localhost:8080/"
        },
        "id": "mTfxdgxgygJf",
        "outputId": "dea33b5d-5c7f-42c1-c791-e4190434ca05"
      },
      "source": [
        "env = wrap_env(gym.make('CartPole-v0'))\n",
        "observation_space = env.observation_space.shape[0]\n",
        "action_space = env.action_space.n\n",
        "dqn_solver = DQNSolver(observation_space, action_space)\n",
        "for run in range(20):\n",
        "    state = env.reset()\n",
        "    state = np.reshape(state, [1, observation_space])\n",
        "    # give some time for buffer to fill up\n",
        "    if run > 3:\n",
        "        dqn_solver.experience_replay()\n",
        "    for step in range(200):\n",
        "        action = dqn_solver.act(state)\n",
        "        state_next, reward, done, info = env.step(action)\n",
        "        state_next = state_next.reshape([1, observation_space])\n",
        "        dqn_solver.remember(state, action, reward, state_next, done)\n",
        "        state = state_next\n",
        "        if done:\n",
        "            print (\"Run: \" + str(run+1) + \", exploration_rate: \" + str(dqn_solver.exploration_rate) + \", score: \" + str(step))\n",
        "            break"
      ],
      "execution_count": 34,
      "outputs": [
        {
          "output_type": "stream",
          "text": [
            "Run: 1, exploration_rate: 1, score: 22\n",
            "Run: 2, exploration_rate: 1, score: 24\n",
            "Run: 3, exploration_rate: 1, score: 23\n",
            "Run: 4, exploration_rate: 1, score: 29\n",
            "Run: 5, exploration_rate: 0.95, score: 21\n",
            "Run: 6, exploration_rate: 0.9025, score: 21\n",
            "Run: 7, exploration_rate: 0.8573749999999999, score: 27\n",
            "Run: 8, exploration_rate: 0.8145062499999999, score: 21\n",
            "Run: 9, exploration_rate: 0.7737809374999999, score: 49\n",
            "Run: 10, exploration_rate: 0.7350918906249998, score: 9\n",
            "Run: 11, exploration_rate: 0.6983372960937497, score: 66\n",
            "Run: 12, exploration_rate: 0.6634204312890623, score: 14\n",
            "Run: 13, exploration_rate: 0.6302494097246091, score: 61\n",
            "Run: 14, exploration_rate: 0.5987369392383786, score: 66\n",
            "Run: 15, exploration_rate: 0.5688000922764596, score: 17\n",
            "Run: 16, exploration_rate: 0.5403600876626365, score: 44\n",
            "Run: 17, exploration_rate: 0.5133420832795047, score: 44\n",
            "Run: 18, exploration_rate: 0.48767497911552943, score: 50\n",
            "Run: 19, exploration_rate: 0.46329123015975293, score: 23\n",
            "Run: 20, exploration_rate: 0.44012666865176525, score: 86\n"
          ],
          "name": "stdout"
        }
      ]
    },
    {
      "cell_type": "markdown",
      "metadata": {
        "id": "7Ypv40rRygJg"
      },
      "source": [
        "# Visualize your DQN agent"
      ]
    },
    {
      "cell_type": "code",
      "metadata": {
        "id": "21EB_anZygJg"
      },
      "source": [
        "def dqn_agent(state):\n",
        "  return dqn_solver.act(state.reshape([1, observation_space]), greedy = True)"
      ],
      "execution_count": 35,
      "outputs": []
    },
    {
      "cell_type": "code",
      "metadata": {
        "colab": {
          "base_uri": "https://localhost:8080/",
          "height": 438
        },
        "id": "B674CVbxVNn-",
        "outputId": "ff7c55bf-4b18-4df4-ee31-a4372d5977e3"
      },
      "source": [
        "visualize(dqn_agent)"
      ],
      "execution_count": 36,
      "outputs": [
        {
          "output_type": "stream",
          "text": [
            "Episode finished after 105 timesteps with reward 105.0\n"
          ],
          "name": "stdout"
        },
        {
          "output_type": "display_data",
          "data": {
            "text/html": [
              "<video alt=\"test\" autoplay \n",
              "                loop controls style=\"height: 400px;\">\n",
              "                <source src=\"data:video/mp4;base64,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\" type=\"video/mp4\" />\n",
              "             </video>"
            ],
            "text/plain": [
              "<IPython.core.display.HTML object>"
            ]
          },
          "metadata": {
            "tags": []
          }
        }
      ]
    },
    {
      "cell_type": "markdown",
      "metadata": {
        "id": "bP9eqba4ygJh"
      },
      "source": [
        "# Concluding Remarks"
      ]
    },
    {
      "cell_type": "markdown",
      "metadata": {
        "id": "XwrR0BLfygJh"
      },
      "source": [
        "One good thing about using neural networks is that you can easily train an agent with very complex / high-dimensional state spaces as inputs.\n",
        "However, you lose out on the interpretability of the model.\n",
        "Compare your DQN agent to that of the heuristic-based agent earlier using the following guiding questions:\n",
        "- Which is easier to understand by humans?\n",
        "- Which requires more human input?\n",
        "- Which requires longer code?\n",
        "- If someone were to ask you how your AI system works, which kind of model would you feel more confident explaining?"
      ]
    }
  ]
}